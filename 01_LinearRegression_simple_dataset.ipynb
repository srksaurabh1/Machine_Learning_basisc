{
 "cells": [
  {
   "cell_type": "code",
   "execution_count": 1,
   "id": "56ee6400",
   "metadata": {},
   "outputs": [],
   "source": [
    "import numpy as np\n",
    "import pandas as pd\n",
    "import matplotlib.pyplot as plt"
   ]
  },
  {
   "cell_type": "code",
   "execution_count": 32,
   "id": "7601b4ef",
   "metadata": {},
   "outputs": [],
   "source": [
    "X  = np.array([1  ,2  ,3  ,4  ,5])\n",
    "y  = np.array([1.2,1.9,6.4,8.3,10])\n",
    "\n",
    "q0 = 0\n",
    "q1 = 0\n",
    "iterMax = 10\n",
    "lr = 0.001 #earning rate\n",
    "error = []"
   ]
  },
  {
   "cell_type": "code",
   "execution_count": 33,
   "id": "f9e868a2",
   "metadata": {},
   "outputs": [
    {
     "name": "stdout",
     "output_type": "stream",
     "text": [
      "iteration No: 0, q0: 0.055600000000000004, q1: 0.21480000000000002\n",
      "iteration No: 0, q0: 0.15980000000000003, q1: 0.6191040000000001\n",
      "iteration No: 0, q0: 0.29942888, q1: 1.1653125600000003\n",
      "iteration No: 0, q0: 0.45670409440000004, q1: 1.7891538720000004\n",
      "iteration No: 0, q0: 0.6113376516960001, q1: 2.4172871352480003\n",
      "iteration No: 1, q0: 0.5883056611216001, q1: 2.3478454208198403\n",
      "iteration No: 1, q0: 0.5445552513113889, q1: 2.21729154026785\n",
      "iteration No: 1, q0: 0.48444054278002835, q1: 2.041298932747054\n",
      "iteration No: 1, q0: 0.41384246083845583, q1: 1.8410302263406817\n",
      "iteration No: 1, q0: 0.33947504749827834, q1: 1.6406329212116806\n",
      "iteration No: 2, q0: 0.34246130938694513, q1: 1.6647790484534475\n",
      "iteration No: 2, q0: 0.34767958672813903, q1: 1.7103256410837266\n",
      "iteration No: 2, q0: 0.3537112989695398, q1: 1.7721060255929517\n",
      "iteration No: 2, q0: 0.3586427174534566, q1: 1.843143408317866\n",
      "iteration No: 2, q0: 0.3602934065133029, q1: 1.9154757346042113\n",
      "iteration No: 3, q0: 0.35482620041004354, q1: 1.908764601602349\n",
      "iteration No: 3, q0: 0.3441477942546133, q1: 1.896244576411927\n",
      "iteration No: 3, q0: 0.32874057286427905, q1: 1.8796132139885544\n",
      "iteration No: 3, q0: 0.3092575493256454, q1: 1.8611621808405128\n",
      "iteration No: 3, q0: 0.28644708486854, q1: 1.8435055813202452\n",
      "iteration No: 4, q0: 0.2838774465802472, q1: 1.846926554828962\n",
      "iteration No: 4, q0: 0.27866123718128316, q1: 1.8534692839090856\n",
      "iteration No: 4, q0: 0.2706543368932337, q1: 1.8625705546437714\n",
      "iteration No: 4, q0: 0.25966377659693873, q1: 1.8734694342608453\n",
      "iteration No: 4, q0: 0.24547249550684902, q1: 1.885296762811318\n",
      "iteration No: 5, q0: 0.242058867667441, q1: 1.8853499440368675\n",
      "iteration No: 5, q0: 0.23526415283025254, q1: 1.8855528653883384\n",
      "iteration No: 5, q0: 0.2251502105031114, q1: 1.8860870469621847\n",
      "iteration No: 5, q0: 0.2118021546620736, q1: 1.8871971470550972\n",
      "iteration No: 5, q0: 0.1953201628627622, q1: 1.8891614963320869\n",
      "iteration No: 6, q0: 0.19229211634417195, q1: 1.8902941268496745\n",
      "iteration No: 6, q0: 0.18623232485664978, q1: 1.8925256399234727\n",
      "iteration No: 6, q0: 0.17713444092285693, q1: 1.8957923628599895\n",
      "iteration No: 6, q0: 0.16499144169403585, q1: 1.9000078926542217\n",
      "iteration No: 6, q0: 0.14979829126864774, q1: 1.9050728110056685\n",
      "iteration No: 7, q0: 0.1467481240257912, q1: 1.9058208530569856\n",
      "iteration No: 7, q0: 0.1406558499509672, q1: 1.9073261575512606\n",
      "iteration No: 7, q0: 0.1315372326500957, q1: 1.9096059092163677\n",
      "iteration No: 7, q0: 0.11941506574623222, q1: 1.9126828938881717\n",
      "iteration No: 7, q0: 0.10431826136826126, q1: 1.9165823082598898\n",
      "iteration No: 8, q0: 0.10137760950678196, q1: 1.9174287065102542\n",
      "iteration No: 8, q0: 0.0955003203549272, q1: 1.919116618759287\n",
      "iteration No: 8, q0: 0.08669452943674456, q1: 1.9216366933341504\n",
      "iteration No: 8, q0: 0.07497269242416997, q1: 1.924975895759155\n",
      "iteration No: 8, q0: 0.06035185161457904, q1: 1.9291185688779273\n",
      "iteration No: 9, q0: 0.057474776032095436, q1: 1.929904970752918\n",
      "iteration No: 9, q0: 0.05172580356670334, q1: 1.9314775825641246\n",
      "iteration No: 9, q0: 0.04311524558872047, q1: 1.9338358861862766\n",
      "iteration No: 9, q0: 0.03165845856926211, q1: 1.9369787849602766\n",
      "iteration No: 9, q0: 0.017375723415302826, q1: 1.9409042636315683\n"
     ]
    }
   ],
   "source": [
    "for _ in range(iterMax):\n",
    "    error_cost = 0\n",
    "    cost_q0 = 0\n",
    "    cost_q1 = 0\n",
    "    for i in range(len(X)):\n",
    "        h = q0 + q1*X[i]\n",
    "        error_cost = error_cost + (h- y[i])**2\n",
    "        \n",
    "        for j in range(len(X)):\n",
    "            p_q0 = 2 * (q0 + q1*X[j] - y[j])\n",
    "            p_q1 = 2 * (q0 + q1*X[j] - y[j]) * X[j]\n",
    "            cost_q0 = cost_q0 + p_q0\n",
    "            cost_q1 = cost_q1 + p_q1\n",
    "        \n",
    "        q0 = q0 - lr * cost_q0\n",
    "        q1 = q1 - lr * cost_q1\n",
    "        print(f'iteration No: {_}, q0: {q0}, q1: {q1}')\n",
    "    \n",
    "    error.append(error_cost)"
   ]
  },
  {
   "cell_type": "code",
   "execution_count": 34,
   "id": "8f2be259",
   "metadata": {},
   "outputs": [
    {
     "data": {
      "text/plain": [
       "array([1.95827999, 3.89918425, 5.84008851, 7.78099278, 9.72189704])"
      ]
     },
     "execution_count": 34,
     "metadata": {},
     "output_type": "execute_result"
    }
   ],
   "source": [
    "y_predicted = q0 + q1*X\n",
    "y_predicted"
   ]
  },
  {
   "cell_type": "code",
   "execution_count": 35,
   "id": "aed8e566",
   "metadata": {},
   "outputs": [
    {
     "name": "stdout",
     "output_type": "stream",
     "text": [
      "0.017375723415302826\n",
      "1.9409042636315683\n"
     ]
    }
   ],
   "source": [
    "print(q0)\n",
    "print(q1)"
   ]
  },
  {
   "cell_type": "code",
   "execution_count": 36,
   "id": "e07b5f2a",
   "metadata": {},
   "outputs": [
    {
     "data": {
      "text/plain": [
       "[<matplotlib.lines.Line2D at 0x20392297070>]"
      ]
     },
     "execution_count": 36,
     "metadata": {},
     "output_type": "execute_result"
    },
    {
     "data": {
      "image/png": "[encoded data removed]",
      "text/plain": [
       "<Figure size 432x288 with 1 Axes>"
      ]
     },
     "metadata": {
      "needs_background": "light"
     },
     "output_type": "display_data"
    }
   ],
   "source": [
    "plt.scatter(X,y)\n",
    "plt.plot(X, y_predicted)"
   ]
  },
  {
   "cell_type": "code",
   "execution_count": null,
   "id": "5d2d6f88",
   "metadata": {},
   "outputs": [],
   "source": []
  },
  {
   "cell_type": "code",
   "execution_count": null,
   "id": "e78fcbbc",
   "metadata": {},
   "outputs": [],
   "source": []
  },
  {
   "cell_type": "code",
   "execution_count": null,
   "id": "f859eba7",
   "metadata": {},
   "outputs": [],
   "source": []
  }
 ],
 "metadata": {
  "kernelspec": {
   "display_name": "Python 3 (ipykernel)",
   "language": "python",
   "name": "python3"
  },
  "language_info": {
   "codemirror_mode": {
    "name": "ipython",
    "version": 3
   },
   "file_extension": ".py",
   "mimetype": "text/x-python",
   "name": "python",
   "nbconvert_exporter": "python",
   "pygments_lexer": "ipython3",
   "version": "3.9.7"
  }
 },
 "nbformat": 4,
 "nbformat_minor": 5
}
