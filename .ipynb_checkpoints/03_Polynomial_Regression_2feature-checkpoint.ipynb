{
 "cells": [
  {
   "cell_type": "markdown",
   "id": "383bd1b8",
   "metadata": {},
   "source": [
    "Name: Saurabh S. Ramteke                                                       \n",
    "Roll No: 21-27-19                                                               \n",
    "M.Tech: Data Science"
   ]
  },
  {
   "cell_type": "markdown",
   "id": "59bd5a05",
   "metadata": {},
   "source": [
    "##### Importing Dependencies"
   ]
  },
  {
   "cell_type": "code",
   "execution_count": 1,
   "id": "c9032557",
   "metadata": {},
   "outputs": [],
   "source": [
    "import numpy as np\n",
    "import matplotlib.pyplot as plt\n",
    "import pandas as pd"
   ]
  },
  {
   "cell_type": "markdown",
   "id": "1fadb58a",
   "metadata": {},
   "source": [
    "##### Importing Dataset"
   ]
  },
  {
   "cell_type": "code",
   "execution_count": 2,
   "id": "759f1c40",
   "metadata": {},
   "outputs": [
    {
     "data": {
      "text/html": [
       "<div>\n",
       "<style scoped>\n",
       "    .dataframe tbody tr th:only-of-type {\n",
       "        vertical-align: middle;\n",
       "    }\n",
       "\n",
       "    .dataframe tbody tr th {\n",
       "        vertical-align: top;\n",
       "    }\n",
       "\n",
       "    .dataframe thead th {\n",
       "        text-align: right;\n",
       "    }\n",
       "</style>\n",
       "<table border=\"1\" class=\"dataframe\">\n",
       "  <thead>\n",
       "    <tr style=\"text-align: right;\">\n",
       "      <th></th>\n",
       "      <th>Id</th>\n",
       "      <th>LotArea</th>\n",
       "      <th>OverallQual</th>\n",
       "      <th>1stFlrSF</th>\n",
       "      <th>GrLivArea</th>\n",
       "      <th>TotRmsAbvGrd</th>\n",
       "      <th>GarageCars</th>\n",
       "      <th>GarageArea</th>\n",
       "      <th>SalePrice</th>\n",
       "    </tr>\n",
       "  </thead>\n",
       "  <tbody>\n",
       "    <tr>\n",
       "      <th>0</th>\n",
       "      <td>1</td>\n",
       "      <td>8450</td>\n",
       "      <td>7</td>\n",
       "      <td>856</td>\n",
       "      <td>1710</td>\n",
       "      <td>8</td>\n",
       "      <td>2</td>\n",
       "      <td>548</td>\n",
       "      <td>208500</td>\n",
       "    </tr>\n",
       "    <tr>\n",
       "      <th>1</th>\n",
       "      <td>2</td>\n",
       "      <td>9600</td>\n",
       "      <td>6</td>\n",
       "      <td>1262</td>\n",
       "      <td>1262</td>\n",
       "      <td>6</td>\n",
       "      <td>2</td>\n",
       "      <td>460</td>\n",
       "      <td>181500</td>\n",
       "    </tr>\n",
       "    <tr>\n",
       "      <th>2</th>\n",
       "      <td>3</td>\n",
       "      <td>11250</td>\n",
       "      <td>7</td>\n",
       "      <td>920</td>\n",
       "      <td>1786</td>\n",
       "      <td>6</td>\n",
       "      <td>2</td>\n",
       "      <td>608</td>\n",
       "      <td>223500</td>\n",
       "    </tr>\n",
       "    <tr>\n",
       "      <th>3</th>\n",
       "      <td>4</td>\n",
       "      <td>9550</td>\n",
       "      <td>7</td>\n",
       "      <td>961</td>\n",
       "      <td>1717</td>\n",
       "      <td>7</td>\n",
       "      <td>3</td>\n",
       "      <td>642</td>\n",
       "      <td>140000</td>\n",
       "    </tr>\n",
       "    <tr>\n",
       "      <th>4</th>\n",
       "      <td>5</td>\n",
       "      <td>14260</td>\n",
       "      <td>8</td>\n",
       "      <td>1145</td>\n",
       "      <td>2198</td>\n",
       "      <td>9</td>\n",
       "      <td>3</td>\n",
       "      <td>836</td>\n",
       "      <td>250000</td>\n",
       "    </tr>\n",
       "  </tbody>\n",
       "</table>\n",
       "</div>"
      ],
      "text/plain": [
       "   Id  LotArea  OverallQual  1stFlrSF  GrLivArea  TotRmsAbvGrd  GarageCars  \\\n",
       "0   1     8450            7       856       1710             8           2   \n",
       "1   2     9600            6      1262       1262             6           2   \n",
       "2   3    11250            7       920       1786             6           2   \n",
       "3   4     9550            7       961       1717             7           3   \n",
       "4   5    14260            8      1145       2198             9           3   \n",
       "\n",
       "   GarageArea  SalePrice  \n",
       "0         548     208500  \n",
       "1         460     181500  \n",
       "2         608     223500  \n",
       "3         642     140000  \n",
       "4         836     250000  "
      ]
     },
     "execution_count": 2,
     "metadata": {},
     "output_type": "execute_result"
    }
   ],
   "source": [
    "df = pd.read_csv(\\\n",
    "                 r\"C:\\Users\\saura\\Desktop\\Ongoing\\Notes\\01.LAB_ass\\ML\\Machine_Learning_basisc\\Data_sets\\Housepriceprediction.csv\")\n",
    "df.head()"
   ]
  },
  {
   "cell_type": "markdown",
   "id": "faeefa08",
   "metadata": {},
   "source": [
    "##### Splitting dataset into training and test"
   ]
  },
  {
   "cell_type": "code",
   "execution_count": 6,
   "id": "c915b37a",
   "metadata": {},
   "outputs": [
    {
     "data": {
      "text/plain": [
       "array([[ 8777,     5],\n",
       "       [10800,     4],\n",
       "       [ 8767,     7],\n",
       "       ...,\n",
       "       [ 6882,     6],\n",
       "       [ 1680,     6],\n",
       "       [18000,     3]], dtype=int64)"
      ]
     },
     "execution_count": 6,
     "metadata": {},
     "output_type": "execute_result"
    }
   ],
   "source": [
    "X = df.iloc[ : , 1:3].values\n",
    "y = df.iloc[ : , -1].values\n",
    "\n",
    "# X = X.reshape(-1,1)\n",
    "# y = y.reshape(-1,1)\n",
    "\n",
    "# print(f\"X: {X}\\n\\ny: {y}\")\n",
    "\n",
    "from sklearn.model_selection import train_test_split\n",
    "X_train, X_test, y_train, y_test = train_test_split(X, y, test_size = 0.2, random_state = 1)\n",
    "X_train"
   ]
  },
  {
   "cell_type": "markdown",
   "id": "af1a5dcd",
   "metadata": {},
   "source": [
    "##### Polynomial LR with order of 2"
   ]
  },
  {
   "cell_type": "code",
   "execution_count": 7,
   "id": "9e820445",
   "metadata": {},
   "outputs": [],
   "source": [
    "from sklearn.preprocessing import PolynomialFeatures\n",
    "poly = PolynomialFeatures(2) # order 2\n",
    "X_poly = poly.fit_transform(X_train)\n",
    "\n",
    "from sklearn.linear_model import LinearRegression\n",
    "poly_reg = LinearRegression()\n",
    "\n",
    "poly_reg.fit(X_poly,y_train)\n",
    "y_pred = poly_reg.predict(poly.fit_transform(X_test))"
   ]
  },
  {
   "cell_type": "markdown",
   "id": "bdca4166",
   "metadata": {},
   "source": [
    "##### R2 score"
   ]
  },
  {
   "cell_type": "code",
   "execution_count": 9,
   "id": "42ba2f7b",
   "metadata": {},
   "outputs": [
    {
     "data": {
      "text/plain": [
       "0.7631388898231353"
      ]
     },
     "execution_count": 9,
     "metadata": {},
     "output_type": "execute_result"
    }
   ],
   "source": [
    "from sklearn.metrics import r2_score\n",
    "r2 = r2_score(y_test, y_pred)\n",
    "r2"
   ]
  },
  {
   "cell_type": "markdown",
   "id": "3e8621d3",
   "metadata": {},
   "source": [
    "##### Polynomial LR with order of 2"
   ]
  },
  {
   "cell_type": "code",
   "execution_count": 10,
   "id": "8b2ebbd8",
   "metadata": {},
   "outputs": [],
   "source": [
    "poly3 = PolynomialFeatures(3) # order 2\n",
    "X_poly3 = poly3.fit_transform(X_train)\n",
    "\n",
    "poly_reg3 = LinearRegression()\n",
    "\n",
    "poly_reg3.fit(X_poly3,y_train)\n",
    "y_pred3 = poly_reg3.predict(poly3.fit_transform(X_test))"
   ]
  },
  {
   "cell_type": "markdown",
   "id": "c35db19d",
   "metadata": {},
   "source": [
    "##### R2 Score"
   ]
  },
  {
   "cell_type": "code",
   "execution_count": 12,
   "id": "f4ade2f0",
   "metadata": {},
   "outputs": [
    {
     "data": {
      "text/plain": [
       "0.7728851519207002"
      ]
     },
     "execution_count": 12,
     "metadata": {},
     "output_type": "execute_result"
    }
   ],
   "source": [
    "r2_order3 = r2_score(y_test, y_pred3)\n",
    "r2_order3"
   ]
  }
 ],
 "metadata": {
  "kernelspec": {
   "display_name": "Python 3 (ipykernel)",
   "language": "python",
   "name": "python3"
  },
  "language_info": {
   "codemirror_mode": {
    "name": "ipython",
    "version": 3
   },
   "file_extension": ".py",
   "mimetype": "text/x-python",
   "name": "python",
   "nbconvert_exporter": "python",
   "pygments_lexer": "ipython3",
   "version": "3.9.7"
  }
 },
 "nbformat": 4,
 "nbformat_minor": 5
}
