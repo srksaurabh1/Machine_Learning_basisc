{
 "cells": [
  {
   "cell_type": "code",
   "execution_count": 1,
   "id": "56ee6400",
   "metadata": {},
   "outputs": [],
   "source": [
    "import numpy as np\n",
    "import pandas as pd\n",
    "import matplotlib.pyplot as plt"
   ]
  },
  {
   "cell_type": "code",
   "execution_count": 2,
   "id": "7601b4ef",
   "metadata": {},
   "outputs": [],
   "source": [
    "dataset = pd.read_csv(\\\n",
    "r\"C:\\Users\\saura\\Desktop\\Ongoing\\Notes\\01.LAB_ass\\ML\\Machine_Learning_basisc\\Data_sets\\Housepriceprediction.csv\")\n",
    "\n",
    "X = np.array(dataset.iloc[: , 1:-1])\n",
    "y = np.array(dataset.iloc[: ,  -1])\n",
    "\n",
    "iterMax = 10\n",
    "lr = 0.01 #earning rate\n",
    "error = []\n",
    "\n",
    "col_X = int(X.size/len(X))\n",
    "q = np.zeros([col_X])\n"
   ]
  },
  {
   "cell_type": "code",
   "execution_count": 10,
   "id": "ed38dea8",
   "metadata": {},
   "outputs": [],
   "source": [
    "from sklearn.model_selection import train_test_split\n",
    "X_train, X_test, y_train, y_test = train_test_split(X, y, test_size = 0.25, random_state = 1)"
   ]
  },
  {
   "cell_type": "code",
   "execution_count": 3,
   "id": "f9e868a2",
   "metadata": {},
   "outputs": [],
   "source": [
    "z = np.dot(X_train, q)\n",
    "\n",
    "for _ in range(iterMax):\n",
    "    error_cost = 0\n",
    "    cost_p_q = 0\n",
    "    \n",
    "    for i in range(len(X_train)):\n",
    "        h = z\n",
    "        error_cost += (h - y_train)**2\n",
    "\n",
    "        p_q = 2 * np.dot((h - y_train) , X_train)\n",
    "        cost_p_q += p_q \n",
    "        \n",
    "        q = q - lr * cost_p_q\n",
    "        \n",
    "    error.append(error_cost)            "
   ]
  },
  {
   "cell_type": "code",
   "execution_count": null,
   "id": "8f2be259",
   "metadata": {},
   "outputs": [],
   "source": []
  },
  {
   "cell_type": "code",
   "execution_count": null,
   "id": "f58e33f5",
   "metadata": {},
   "outputs": [],
   "source": []
  }
 ],
 "metadata": {
  "kernelspec": {
   "display_name": "Python 3 (ipykernel)",
   "language": "python",
   "name": "python3"
  },
  "language_info": {
   "codemirror_mode": {
    "name": "ipython",
    "version": 3
   },
   "file_extension": ".py",
   "mimetype": "text/x-python",
   "name": "python",
   "nbconvert_exporter": "python",
   "pygments_lexer": "ipython3",
   "version": "3.9.7"
  }
 },
 "nbformat": 4,
 "nbformat_minor": 5
}
