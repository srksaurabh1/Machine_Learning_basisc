{
 "cells": [
  {
   "cell_type": "markdown",
   "id": "d291d060",
   "metadata": {},
   "source": [
    "##### Importing Dependecies"
   ]
  },
  {
   "cell_type": "code",
   "execution_count": 1,
   "id": "56ee6400",
   "metadata": {},
   "outputs": [],
   "source": [
    "import numpy as np\n",
    "import pandas as pd\n",
    "import matplotlib.pyplot as plt"
   ]
  },
  {
   "cell_type": "markdown",
   "id": "8a739b14",
   "metadata": {},
   "source": [
    "##### Importing data and preprocessing"
   ]
  },
  {
   "cell_type": "code",
   "execution_count": 2,
   "id": "7601b4ef",
   "metadata": {},
   "outputs": [],
   "source": [
    "dataset = pd.read_csv(\\\n",
    "r\"C:\\Users\\saura\\Desktop\\Ongoing\\Notes\\01.LAB_ass\\ML\\Machine_Learning_basisc\\Data_sets\\Housepriceprediction.csv\")\n",
    "\n",
    "X = np.array(dataset.iloc[: , 1:-1])\n",
    "y = np.array(dataset.iloc[: ,  -1])\n",
    "\n",
    "iterMax = 5\n",
    "lr = 0.001 #earning rate\n",
    "error = []\n",
    "\n",
    "col_X = int(X.size/len(X))\n",
    "q = np.zeros([col_X])"
   ]
  },
  {
   "cell_type": "markdown",
   "id": "69f247bd",
   "metadata": {},
   "source": [
    "##### Splitting the dataset in Training and testing models"
   ]
  },
  {
   "cell_type": "code",
   "execution_count": 3,
   "id": "678f96bb",
   "metadata": {},
   "outputs": [
    {
     "name": "stdout",
     "output_type": "stream",
     "text": [
      "(1095,)\n",
      "(1095,)\n"
     ]
    }
   ],
   "source": [
    "from sklearn.model_selection import train_test_split\n",
    "X_train, X_test, y_train, y_test = train_test_split(X, y, test_size = 0.25, random_state = 1)\n",
    "\n",
    "X_train[:, 0] = 1 # 1st column = 1\n",
    "\n",
    "# Formula => h(x) = q0 + q1x1 + q2x2 + q3x3 + q4x4 + q5x5 + q6x6 + q7x7\n",
    "# X0 = 1\n",
    "print((np.dot(X_train, q) - y_train).shape)\n",
    "# print(len(X_train))\n",
    "# print(X_train.shape)\n",
    "# print((np.dot((z - y_train).transpose() , X_train)).shape)\n",
    "# print(X_train)\n",
    "print(y_train.shape)\n",
    "\n"
   ]
  },
  {
   "cell_type": "code",
   "execution_count": 4,
   "id": "e44ecf26",
   "metadata": {},
   "outputs": [
    {
     "name": "stdout",
     "output_type": "stream",
     "text": [
      "--- 0.0 seconds ---\n"
     ]
    }
   ],
   "source": [
    "import time\n",
    "start_time = time.time()\n",
    "\n",
    "print(\"--- %s seconds ---\" % (time.time() - start_time))"
   ]
  },
  {
   "cell_type": "markdown",
   "id": "cb6f6695",
   "metadata": {},
   "source": [
    "##### Linear Regression Model using gradient descent(partial derivative)"
   ]
  },
  {
   "cell_type": "code",
   "execution_count": 6,
   "id": "f9e868a2",
   "metadata": {
    "scrolled": true
   },
   "outputs": [
    {
     "name": "stdout",
     "output_type": "stream",
     "text": [
      "Execution time of program: 308.1271216869354\n"
     ]
    }
   ],
   "source": [
    "import time\n",
    "\n",
    "start_time = time.time()\n",
    "\n",
    "for _ in range(iterMax):\n",
    "    error_cost = np.zeros([1095])\n",
    "    cost_p_q = np.zeros([7])\n",
    "    \n",
    "    for i in range(len(X_train)):\n",
    "        h = np.dot(X_train, q).astype(int)\n",
    "        error_cost = error_cost + (h - y_train)**2\n",
    "\n",
    "        for j in range(len(X_train)):\n",
    "            p_q = 2 * np.dot((np.dot(X_train, q) - y_train).transpose() , X_train).astype(int)\n",
    "            cost_p_q = cost_p_q + p_q \n",
    "        \n",
    "        q = q - lr * cost_p_q\n",
    "#         print(f'Iteration no: {_}, q: {q}')\n",
    "        \n",
    "    error.append(error_cost) \n",
    "\n",
    "end_time = time.time()\n",
    "print(f'Execution time of program: {end_time - start_time} seconds')"
   ]
  },
  {
   "cell_type": "code",
   "execution_count": 7,
   "id": "35fef329",
   "metadata": {},
   "outputs": [],
   "source": [
    "y_pred = np.dot(X_test,q)"
   ]
  },
  {
   "cell_type": "code",
   "execution_count": 8,
   "id": "f03d5f60",
   "metadata": {},
   "outputs": [
    {
     "name": "stdout",
     "output_type": "stream",
     "text": [
      "5.049731187356677e+21\n"
     ]
    }
   ],
   "source": [
    "error_avg = np.average(error)\n",
    "print(error_avg)"
   ]
  },
  {
   "cell_type": "code",
   "execution_count": 9,
   "id": "f49bf6d6",
   "metadata": {},
   "outputs": [],
   "source": [
    "from sklearn.metrics import mean_squared_error\n",
    "er1 = mean_squared_error(y_test, y_pred)"
   ]
  },
  {
   "cell_type": "code",
   "execution_count": 10,
   "id": "a4de2d57",
   "metadata": {},
   "outputs": [
    {
     "data": {
      "text/plain": [
       "4.41596426610356e+31"
      ]
     },
     "execution_count": 10,
     "metadata": {},
     "output_type": "execute_result"
    }
   ],
   "source": [
    "er1"
   ]
  },
  {
   "cell_type": "code",
   "execution_count": 11,
   "id": "6b2fd559",
   "metadata": {},
   "outputs": [],
   "source": [
    "from sklearn.metrics import r2_score\n",
    "r2 = r2_score(y_test, y_pred)"
   ]
  },
  {
   "cell_type": "code",
   "execution_count": 12,
   "id": "39385ce8",
   "metadata": {},
   "outputs": [
    {
     "data": {
      "text/plain": [
       "-6.578004263958161e+21"
      ]
     },
     "execution_count": 12,
     "metadata": {},
     "output_type": "execute_result"
    }
   ],
   "source": [
    "r2"
   ]
  },
  {
   "cell_type": "code",
   "execution_count": 13,
   "id": "76dddb8f",
   "metadata": {},
   "outputs": [
    {
     "data": {
      "text/plain": [
       "array([ 4.78747023e+11, -1.99166023e+12,  0.00000000e+00,  0.00000000e+00,\n",
       "       -1.83331702e+12,  9.46698894e+11,  0.00000000e+00])"
      ]
     },
     "execution_count": 13,
     "metadata": {},
     "output_type": "execute_result"
    }
   ],
   "source": [
    "q"
   ]
  },
  {
   "cell_type": "code",
   "execution_count": null,
   "id": "ecccabea",
   "metadata": {},
   "outputs": [],
   "source": []
  }
 ],
 "metadata": {
  "kernelspec": {
   "display_name": "Python 3 (ipykernel)",
   "language": "python",
   "name": "python3"
  },
  "language_info": {
   "codemirror_mode": {
    "name": "ipython",
    "version": 3
   },
   "file_extension": ".py",
   "mimetype": "text/x-python",
   "name": "python",
   "nbconvert_exporter": "python",
   "pygments_lexer": "ipython3",
   "version": "3.9.7"
  }
 },
 "nbformat": 4,
 "nbformat_minor": 5
}
