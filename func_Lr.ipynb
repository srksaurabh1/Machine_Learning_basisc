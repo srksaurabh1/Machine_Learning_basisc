{
 "cells": [
  {
   "cell_type": "markdown",
   "id": "8f4bdd68",
   "metadata": {},
   "source": [
    "##### Importing dependencies"
   ]
  },
  {
   "cell_type": "code",
   "execution_count": 1,
   "id": "7392cfa8",
   "metadata": {},
   "outputs": [],
   "source": [
    "import numpy as np\n",
    "import pandas as pd"
   ]
  },
  {
   "cell_type": "markdown",
   "id": "df3533b4",
   "metadata": {},
   "source": [
    "##### Importing Data"
   ]
  },
  {
   "cell_type": "code",
   "execution_count": 2,
   "id": "0e6bfe3b",
   "metadata": {},
   "outputs": [],
   "source": [
    "dataset = pd.read_csv(\\\n",
    "r\"C:\\Users\\saura\\Desktop\\Ongoing\\Notes\\01.LAB_ass\\ML\\Machine_Learning_basisc\\Data_sets\\Housepriceprediction.csv\")\n",
    "\n",
    "X = np.array(dataset.iloc[: , 1:-1])\n",
    "y = np.array(dataset.iloc[: ,  -1])\n",
    "\n",
    "iterMax = 1000\n",
    "lr = 0.01 # Learning rate\n",
    "error = []\n",
    "\n",
    "col_X = int(X.size/len(X))\n",
    "q = np.zeros([col_X])"
   ]
  },
  {
   "cell_type": "markdown",
   "id": "889c5da9",
   "metadata": {},
   "source": [
    "##### Splitting the data into training and testing models"
   ]
  },
  {
   "cell_type": "code",
   "execution_count": 3,
   "id": "c8b108d2",
   "metadata": {},
   "outputs": [],
   "source": [
    "from sklearn.model_selection import train_test_split\n",
    "X_train, X_test, y_train, y_test = train_test_split(X, y, test_size = 0.25, random_state = 1)\n",
    "\n",
    "X_train[:, 0] = 1 # 1st column = 1\n",
    "X_test[ :, 0] = 1\n",
    "\n",
    "# Formula => h(x) = q0 + q1x1 + q2x2 + q3x3 + q4x4 + q5x5 + q6x6 + q7x7\n",
    "# X0 = 1"
   ]
  },
  {
   "cell_type": "markdown",
   "id": "8113d826",
   "metadata": {},
   "source": [
    "##### Gradient Descent Func"
   ]
  },
  {
   "cell_type": "code",
   "execution_count": 4,
   "id": "40742ade",
   "metadata": {},
   "outputs": [],
   "source": [
    "def GradientDescent(X_train, y_train, q, cost_p_q, iterMax):\n",
    "    for j in range(len(X_train)):\n",
    "        p_q = 2 * np.dot((np.dot(X_train, q) - y_train).transpose() , X_train).astype(int)\n",
    "    \n",
    "        cost_p_q = cost_p_q + p_q \n",
    "        return cost_p_q"
   ]
  },
  {
   "cell_type": "markdown",
   "id": "89ab9b94",
   "metadata": {},
   "source": [
    "##### Cost Function"
   ]
  },
  {
   "cell_type": "code",
   "execution_count": 5,
   "id": "c47df64f",
   "metadata": {},
   "outputs": [],
   "source": [
    "def cost_func(X_train, y_train, q, error_cost, cost_p_q, iterMax):\n",
    "     for i in range(len(X_train)):\n",
    "        h = np.dot(X_train, q).astype(int)\n",
    "        error_cost = error_cost + (h - y_train)**2\n",
    "        \n",
    "        cost_p_q = GradientDescent(X_train, y_train, q, cost_p_q, iterMax)\n",
    "        \n",
    "        q = q - lr * cost_p_q\n",
    "        return q\n",
    "#       print(f'Iteration no: {_}, q: {q}')"
   ]
  },
  {
   "cell_type": "markdown",
   "id": "1fea3bfa",
   "metadata": {},
   "source": [
    "##### Iterations func"
   ]
  },
  {
   "cell_type": "code",
   "execution_count": 6,
   "id": "823d4986",
   "metadata": {},
   "outputs": [],
   "source": [
    "def iter(iterMax,q):\n",
    "    for _ in range(iterMax):\n",
    "        error_cost = np.zeros([1095])\n",
    "        cost_p_q0 = np.zeros([7])\n",
    "        q = cost_func(X_train, y_train, q, error_cost, cost_p_q, iterMax)\n",
    "    return q"
   ]
  },
  {
   "cell_type": "markdown",
   "id": "ab4f5629",
   "metadata": {},
   "source": [
    "##### Calling func"
   ]
  },
  {
   "cell_type": "code",
   "execution_count": 7,
   "id": "cacec78d",
   "metadata": {},
   "outputs": [
    {
     "ename": "UnboundLocalError",
     "evalue": "local variable 'q0' referenced before assignment",
     "output_type": "error",
     "traceback": [
      "\u001b[1;31m---------------------------------------------------------------------------\u001b[0m",
      "\u001b[1;31mUnboundLocalError\u001b[0m                         Traceback (most recent call last)",
      "\u001b[1;32m~\\AppData\\Local\\Temp/ipykernel_11416/3746667463.py\u001b[0m in \u001b[0;36m<module>\u001b[1;34m\u001b[0m\n\u001b[0;32m      2\u001b[0m \u001b[0mstart_time\u001b[0m \u001b[1;33m=\u001b[0m \u001b[0mtime\u001b[0m\u001b[1;33m.\u001b[0m\u001b[0mtime\u001b[0m\u001b[1;33m(\u001b[0m\u001b[1;33m)\u001b[0m\u001b[1;33m\u001b[0m\u001b[1;33m\u001b[0m\u001b[0m\n\u001b[0;32m      3\u001b[0m \u001b[1;33m\u001b[0m\u001b[0m\n\u001b[1;32m----> 4\u001b[1;33m \u001b[0mq0\u001b[0m\u001b[1;33m,\u001b[0m\u001b[0mq1\u001b[0m \u001b[1;33m=\u001b[0m \u001b[0miter\u001b[0m\u001b[1;33m(\u001b[0m\u001b[0miterMax\u001b[0m\u001b[1;33m,\u001b[0m\u001b[0mq\u001b[0m\u001b[1;33m)\u001b[0m\u001b[1;33m\u001b[0m\u001b[1;33m\u001b[0m\u001b[0m\n\u001b[0m\u001b[0;32m      5\u001b[0m \u001b[1;33m\u001b[0m\u001b[0m\n\u001b[0;32m      6\u001b[0m \u001b[0mend_time\u001b[0m \u001b[1;33m=\u001b[0m \u001b[0mtime\u001b[0m\u001b[1;33m.\u001b[0m\u001b[0mtime\u001b[0m\u001b[1;33m(\u001b[0m\u001b[1;33m)\u001b[0m\u001b[1;33m\u001b[0m\u001b[1;33m\u001b[0m\u001b[0m\n",
      "\u001b[1;32m~\\AppData\\Local\\Temp/ipykernel_11416/3117855731.py\u001b[0m in \u001b[0;36miter\u001b[1;34m(iterMax, q)\u001b[0m\n\u001b[0;32m      4\u001b[0m         \u001b[0mcost_p_q0\u001b[0m \u001b[1;33m=\u001b[0m \u001b[0mnp\u001b[0m\u001b[1;33m.\u001b[0m\u001b[0mzeros\u001b[0m\u001b[1;33m(\u001b[0m\u001b[1;33m[\u001b[0m\u001b[1;36m7\u001b[0m\u001b[1;33m]\u001b[0m\u001b[1;33m)\u001b[0m\u001b[1;33m\u001b[0m\u001b[1;33m\u001b[0m\u001b[0m\n\u001b[0;32m      5\u001b[0m         \u001b[0mcost_p_q1\u001b[0m \u001b[1;33m=\u001b[0m \u001b[0mnp\u001b[0m\u001b[1;33m.\u001b[0m\u001b[0mzeros\u001b[0m\u001b[1;33m(\u001b[0m\u001b[1;33m[\u001b[0m\u001b[1;36m1095\u001b[0m\u001b[1;33m]\u001b[0m\u001b[1;33m)\u001b[0m\u001b[1;33m\u001b[0m\u001b[1;33m\u001b[0m\u001b[0m\n\u001b[1;32m----> 6\u001b[1;33m         \u001b[0mq0\u001b[0m\u001b[1;33m,\u001b[0m\u001b[0mq1\u001b[0m \u001b[1;33m=\u001b[0m \u001b[0mcost_func\u001b[0m\u001b[1;33m(\u001b[0m\u001b[0mX_train\u001b[0m\u001b[1;33m,\u001b[0m \u001b[0my_train\u001b[0m\u001b[1;33m,\u001b[0m \u001b[0mq\u001b[0m\u001b[1;33m,\u001b[0m \u001b[0merror_cost\u001b[0m\u001b[1;33m,\u001b[0m \u001b[0mcost_p_q0\u001b[0m\u001b[1;33m,\u001b[0m\u001b[0mcost_p_q1\u001b[0m\u001b[1;33m,\u001b[0m \u001b[0miterMax\u001b[0m\u001b[1;33m)\u001b[0m\u001b[1;33m\u001b[0m\u001b[1;33m\u001b[0m\u001b[0m\n\u001b[0m\u001b[0;32m      7\u001b[0m     \u001b[1;32mreturn\u001b[0m \u001b[0mq0\u001b[0m\u001b[1;33m,\u001b[0m\u001b[0mq1\u001b[0m\u001b[1;33m\u001b[0m\u001b[1;33m\u001b[0m\u001b[0m\n",
      "\u001b[1;32m~\\AppData\\Local\\Temp/ipykernel_11416/1552608297.py\u001b[0m in \u001b[0;36mcost_func\u001b[1;34m(X_train, y_train, q, error_cost, cost_p_q0, cost_p_q1, iterMax)\u001b[0m\n\u001b[0;32m      6\u001b[0m         \u001b[0mcost_p_q0\u001b[0m\u001b[1;33m,\u001b[0m \u001b[0mcost_p_q1\u001b[0m \u001b[1;33m=\u001b[0m \u001b[0mGradientDescent\u001b[0m\u001b[1;33m(\u001b[0m\u001b[0mX_train\u001b[0m\u001b[1;33m,\u001b[0m \u001b[0my_train\u001b[0m\u001b[1;33m,\u001b[0m \u001b[0mq\u001b[0m\u001b[1;33m,\u001b[0m \u001b[0mcost_p_q0\u001b[0m\u001b[1;33m,\u001b[0m \u001b[0mcost_p_q1\u001b[0m\u001b[1;33m,\u001b[0m \u001b[0miterMax\u001b[0m\u001b[1;33m)\u001b[0m\u001b[1;33m\u001b[0m\u001b[1;33m\u001b[0m\u001b[0m\n\u001b[0;32m      7\u001b[0m \u001b[1;33m\u001b[0m\u001b[0m\n\u001b[1;32m----> 8\u001b[1;33m         \u001b[0mq0\u001b[0m \u001b[1;33m=\u001b[0m \u001b[0mq0\u001b[0m \u001b[1;33m-\u001b[0m \u001b[0mlr\u001b[0m \u001b[1;33m*\u001b[0m \u001b[0mcost_p_q0\u001b[0m\u001b[1;33m\u001b[0m\u001b[1;33m\u001b[0m\u001b[0m\n\u001b[0m\u001b[0;32m      9\u001b[0m         \u001b[0mq1\u001b[0m \u001b[1;33m=\u001b[0m \u001b[0mq1\u001b[0m \u001b[1;33m-\u001b[0m \u001b[0mlr\u001b[0m \u001b[1;33m*\u001b[0m \u001b[0mcost_p_q1\u001b[0m\u001b[1;33m\u001b[0m\u001b[1;33m\u001b[0m\u001b[0m\n\u001b[0;32m     10\u001b[0m         \u001b[1;32mreturn\u001b[0m \u001b[0mq0\u001b[0m\u001b[1;33m,\u001b[0m \u001b[0mq1\u001b[0m\u001b[1;33m\u001b[0m\u001b[1;33m\u001b[0m\u001b[0m\n",
      "\u001b[1;31mUnboundLocalError\u001b[0m: local variable 'q0' referenced before assignment"
     ]
    }
   ],
   "source": [
    "import time\n",
    "start_time = time.time()\n",
    "\n",
    "q0,q1 = iter(iterMax,q)\n",
    "\n",
    "end_time = time.time()\n",
    "\n",
    "print(f'Total time: {end_time - start_time} seconds')"
   ]
  },
  {
   "cell_type": "markdown",
   "id": "0fe832c3",
   "metadata": {},
   "source": [
    "##### Predictions"
   ]
  },
  {
   "cell_type": "code",
   "execution_count": null,
   "id": "a6c83593",
   "metadata": {},
   "outputs": [],
   "source": [
    "y_pred = np.dot(X_test,q)"
   ]
  },
  {
   "cell_type": "markdown",
   "id": "8ac4dda5",
   "metadata": {},
   "source": [
    "##### Error and r2 score"
   ]
  },
  {
   "cell_type": "code",
   "execution_count": null,
   "id": "1abc5928",
   "metadata": {},
   "outputs": [],
   "source": [
    "from sklearn.metrics import mean_squared_error, r2_score\n",
    "er1 = mean_squared_error(y_test, y_pred)\n",
    "r2scr = r2_score(y_test, y_pred)\n",
    "print(f'Error: {er1}, r2_score: {r2scr}')"
   ]
  },
  {
   "cell_type": "code",
   "execution_count": null,
   "id": "a9ab1269",
   "metadata": {},
   "outputs": [],
   "source": [
    "q"
   ]
  },
  {
   "cell_type": "code",
   "execution_count": null,
   "id": "69b6cde6",
   "metadata": {},
   "outputs": [],
   "source": []
  },
  {
   "cell_type": "code",
   "execution_count": null,
   "id": "8e5601ec",
   "metadata": {},
   "outputs": [],
   "source": []
  },
  {
   "cell_type": "code",
   "execution_count": null,
   "id": "102e6923",
   "metadata": {},
   "outputs": [],
   "source": []
  }
 ],
 "metadata": {
  "kernelspec": {
   "display_name": "Python 3 (ipykernel)",
   "language": "python",
   "name": "python3"
  },
  "language_info": {
   "codemirror_mode": {
    "name": "ipython",
    "version": 3
   },
   "file_extension": ".py",
   "mimetype": "text/x-python",
   "name": "python",
   "nbconvert_exporter": "python",
   "pygments_lexer": "ipython3",
   "version": "3.9.7"
  }
 },
 "nbformat": 4,
 "nbformat_minor": 5
}
